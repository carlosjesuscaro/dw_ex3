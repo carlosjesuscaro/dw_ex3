{
 "cells": [
  {
   "cell_type": "code",
   "execution_count": null,
   "id": "initial_id",
   "metadata": {
    "collapsed": true
   },
   "outputs": [],
   "source": [
    "# Libraries\n",
    "import pandas as pd\n",
    "import seaborn as sns\n",
    "import openpyxl"
   ]
  },
  {
   "cell_type": "code",
   "execution_count": null,
   "outputs": [],
   "source": [
    "# Loading the file\n",
    "cdr = pd.read_excel('data/Sample CDR.xlsx')"
   ],
   "metadata": {
    "collapsed": false
   },
   "id": "e8e951f60c1c06c6"
  },
  {
   "cell_type": "code",
   "execution_count": null,
   "outputs": [],
   "source": [
    "# CDR\n",
    "print(f'CDR shape: {cdr.shape}')\n",
    "print(f'\\nCDR columns: \\n{cdr.columns}')\n",
    "print(f'\\nCDR info: \\n{cdr.info()}')\n",
    "print(f'\\nCDR describe: \\n{cdr.describe()}')"
   ],
   "metadata": {
    "collapsed": false
   },
   "id": "d689586f5bfafdb5"
  }
 ],
 "metadata": {
  "kernelspec": {
   "display_name": "Python 3",
   "language": "python",
   "name": "python3"
  },
  "language_info": {
   "codemirror_mode": {
    "name": "ipython",
    "version": 2
   },
   "file_extension": ".py",
   "mimetype": "text/x-python",
   "name": "python",
   "nbconvert_exporter": "python",
   "pygments_lexer": "ipython2",
   "version": "2.7.6"
  }
 },
 "nbformat": 4,
 "nbformat_minor": 5
}
