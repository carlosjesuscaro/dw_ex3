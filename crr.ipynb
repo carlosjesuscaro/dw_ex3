{
 "cells": [
  {
   "cell_type": "code",
   "execution_count": 1,
   "id": "initial_id",
   "metadata": {
    "collapsed": true,
    "ExecuteTime": {
     "end_time": "2023-09-09T15:48:34.372870Z",
     "start_time": "2023-09-09T15:48:34.084598Z"
    }
   },
   "outputs": [],
   "source": [
    "# Libraries\n",
    "import pandas as pd\n",
    "import numpy as np\n",
    "import seaborn as sns\n",
    "import geopandas\n",
    "from geodatasets import get_path\n",
    "import matplotlib.pyplot as plt"
   ]
  },
  {
   "cell_type": "code",
   "execution_count": 81,
   "outputs": [],
   "source": [
    "# Loading the file\n",
    "cdr = pd.read_excel('data/Sample CDR.xlsx')\n",
    "cdr = cdr.iloc[11:]"
   ],
   "metadata": {
    "collapsed": false,
    "ExecuteTime": {
     "end_time": "2023-09-09T20:44:52.754531Z",
     "start_time": "2023-09-09T20:44:52.631003Z"
    }
   },
   "id": "e8e951f60c1c06c6"
  },
  {
   "cell_type": "code",
   "execution_count": 82,
   "outputs": [],
   "source": [
    "# Renaming the columns\n",
    "new_names = {'Information Provided To:': 'Date',\n",
    "             'Unnamed: 1': 'DateTime', \n",
    "             'Unnamed: 2': 'Duration', \n",
    "             'Unnamed: 3': 'CallType', \n",
    "             'Unnamed: 4': 'Direction',\n",
    "             'Unnamed: 5': 'CallingNumber', \n",
    "             'Unnamed: 6': 'CalledNumber', \n",
    "             'Unnamed: 7': 'CompletionCode',\n",
    "             'Unnamed: 8': '1stLTESiteID',\n",
    "             'Unnamed: 9': '1stLTESectorID',\n",
    "             'Unnamed: 10': '1stLAC',\n",
    "             'Unnamed: 11': '1stCellID',\n",
    "             'Unnamed: 12': '1stTowerAzimuth',\n",
    "             'Unnamed: 13': '1stTowerLAT', \n",
    "             'Unnamed: 14': '1stTowerLONG', \n",
    "             'Unnamed: 15': '1stTowerAddress', \n",
    "             'Unnamed: 16': '1stTowerCity',\n",
    "             'Unnamed: 17': '1stTowerState',\n",
    "             'Unnamed: 18': '1stTowerZip'}\n",
    "cdr.rename(new_names, axis=1, inplace=True)"
   ],
   "metadata": {
    "collapsed": false,
    "ExecuteTime": {
     "end_time": "2023-09-09T20:44:53.714467Z",
     "start_time": "2023-09-09T20:44:53.705172Z"
    }
   },
   "id": "bea9310a9c17c805"
  },
  {
   "cell_type": "code",
   "execution_count": 90,
   "outputs": [
    {
     "name": "stdout",
     "output_type": "stream",
     "text": [
      "CDR shape: (352, 22)\n",
      "<class 'pandas.core.frame.DataFrame'>\n",
      "RangeIndex: 352 entries, 11 to 362\n",
      "Data columns (total 22 columns):\n",
      " #   Column                     Non-Null Count  Dtype         \n",
      "---  ------                     --------------  -----         \n",
      " 0   Information Provided To:   352 non-null    object        \n",
      " 1   DateTime                   352 non-null    datetime64[ns]\n",
      " 2   Duration                   215 non-null    object        \n",
      " 3   CallType                   352 non-null    object        \n",
      " 4   Direction                  260 non-null    category      \n",
      " 5   CallingNumber              352 non-null    category      \n",
      " 6   CalledNumber               352 non-null    category      \n",
      " 7   CompletionCode             352 non-null    object        \n",
      " 8   1stLTESiteID               239 non-null    object        \n",
      " 9   1stLTESectorID             239 non-null    object        \n",
      " 10  1stLAC                     17 non-null     object        \n",
      " 11  1stCellID                  17 non-null     object        \n",
      " 12  1stTowerAzimuth            0 non-null      object        \n",
      " 13  1stTowerLAT                227 non-null    object        \n",
      " 14  1stTowerLONG               227 non-null    object        \n",
      " 15  1stTowerAddress            227 non-null    object        \n",
      " 16  1stTowerCity               227 non-null    object        \n",
      " 17  1stTowerState              227 non-null    object        \n",
      " 18  1stTowerZip                227 non-null    object        \n",
      " 19  Day                        352 non-null    category      \n",
      " 20  Hour                       352 non-null    category      \n",
      " 21  AP                         352 non-null    category      \n",
      "dtypes: category(6), datetime64[ns](1), object(15)\n",
      "memory usage: 50.0+ KB\n",
      "\n",
      "CDR info: \n",
      "None\n"
     ]
    }
   ],
   "source": [
    "# CDR\n",
    "print(f'CDR shape: {cdr.shape}')\n",
    "cdr['DateTime'] = pd.to_datetime(cdr['DateTime'])\n",
    "cdr['Day'] = cdr['DateTime'].dt.day\n",
    "cdr['Hour'] = cdr['DateTime'].dt.hour\n",
    "cdr['AP'] = cdr['Hour'].apply(lambda x: 'AM' if x < 12 else 'PM')\n",
    "cdr['CallingNumber'] = cdr['CallingNumber'].astype('category')\n",
    "cdr['CalledNumber'] = cdr['CalledNumber'].astype('category')\n",
    "cdr['Direction'] = cdr['Direction'].astype('category')\n",
    "cdr['Day'] = cdr['Day'].astype('category')\n",
    "cdr['Hour'] = cdr['Hour'].astype('category')\n",
    "cdr['AP'] = cdr['Hour'].astype('category')\n",
    "print(f'\\nCDR info: \\n{cdr.info()}')"
   ],
   "metadata": {
    "collapsed": false,
    "ExecuteTime": {
     "end_time": "2023-09-09T21:00:05.191385Z",
     "start_time": "2023-09-09T21:00:05.187507Z"
    }
   },
   "id": "d689586f5bfafdb5"
  },
  {
   "cell_type": "code",
   "execution_count": 91,
   "outputs": [
    {
     "name": "stdout",
     "output_type": "stream",
     "text": [
      "Information Provided To:       0\n",
      "DateTime                       0\n",
      "Duration                     137\n",
      "CallType                       0\n",
      "Direction                     92\n",
      "CallingNumber                  0\n",
      "CalledNumber                   0\n",
      "CompletionCode                 0\n",
      "1stLTESiteID                 113\n",
      "1stLTESectorID               113\n",
      "1stLAC                       335\n",
      "1stCellID                    335\n",
      "1stTowerAzimuth              352\n",
      "1stTowerLAT                  125\n",
      "1stTowerLONG                 125\n",
      "1stTowerAddress              125\n",
      "1stTowerCity                 125\n",
      "1stTowerState                125\n",
      "1stTowerZip                  125\n",
      "Day                            0\n",
      "Hour                           0\n",
      "AP                             0\n",
      "dtype: int64\n"
     ]
    }
   ],
   "source": [
    "print(cdr.isna().sum())"
   ],
   "metadata": {
    "collapsed": false,
    "ExecuteTime": {
     "end_time": "2023-09-09T21:00:07.501035Z",
     "start_time": "2023-09-09T21:00:07.495687Z"
    }
   },
   "id": "3ca3878c04cd0332"
  },
  {
   "cell_type": "markdown",
   "source": [],
   "metadata": {
    "collapsed": false
   },
   "id": "91e2565c70037b84"
  },
  {
   "cell_type": "code",
   "execution_count": 92,
   "outputs": [
    {
     "name": "stdout",
     "output_type": "stream",
     "text": [
      "                   Duration      \n",
      "                      count   sum\n",
      "Day Hour Direction               \n",
      "27  1    Incoming         1     4\n",
      "         Outgoing         1     4\n",
      "    11   Outgoing         1    86\n",
      "    12   Incoming         2   884\n",
      "    14   Incoming         1   988\n",
      "    15   Incoming         1    69\n",
      "         Outgoing         1   420\n",
      "    17   Incoming         1  2071\n",
      "    18   Incoming         1     4\n",
      "         Outgoing         2    61\n",
      "    19   Outgoing         2   198\n",
      "    21   Incoming         1    95\n",
      "    22   Incoming         1    84\n",
      "         Outgoing         1  1068\n",
      "28  0    Incoming         1     5\n",
      "    1    Incoming         1    29\n",
      "         Outgoing         4   409\n",
      "    4    Outgoing         2    20\n",
      "    5    Outgoing         2   634\n",
      "    6    Incoming        10  1391\n",
      "         Outgoing        23  1267\n",
      "    7    Incoming         2  2672\n",
      "         Outgoing         9   202\n",
      "    8    Incoming         6   209\n",
      "         Outgoing         7   195\n",
      "    10   Incoming         2   490\n",
      "         Outgoing         6   190\n",
      "    11   Incoming         4   814\n",
      "         Outgoing         3   410\n",
      "    12   Incoming         7   160\n",
      "         Outgoing        11  1755\n",
      "    13   Incoming         6   868\n",
      "         Outgoing         6    72\n",
      "    14   Incoming         8    33\n",
      "         Outgoing        14   181\n",
      "    15   Incoming         1    41\n",
      "         Outgoing         1   146\n",
      "    16   Incoming         4   473\n",
      "         Outgoing         4    72\n",
      "    17   Incoming         5   859\n",
      "         Outgoing         3    99\n",
      "    18   Incoming         1    77\n",
      "         Outgoing         3    13\n",
      "    19   Incoming         2   266\n",
      "         Outgoing         4   956\n",
      "    20   Outgoing         1    62\n",
      "    22   Incoming         3   401\n",
      "         Outgoing         3     6\n",
      "    23   Outgoing         2   338\n",
      "29  0    Incoming         2   233\n",
      "    2    Incoming         1    38\n",
      "    14   Incoming         2   912\n",
      "    15   Incoming         2   555\n",
      "    16   Incoming         8   560\n",
      "         Outgoing         5    30\n",
      "    19   Incoming         2    23\n",
      "         Outgoing         1     5\n",
      "    20   Incoming         2   120\n",
      "    22   Incoming         1    60\n",
      "         Outgoing         1    60\n",
      "                sum\n",
      "Direction Day      \n",
      "Incoming  27   4199\n",
      "          28   8788\n",
      "          29   2501\n",
      "Outgoing  27   1837\n",
      "          28   7027\n",
      "          29     95\n",
      "               sum\n",
      "Direction AP      \n",
      "Incoming  0    238\n",
      "          1     33\n",
      "          2     38\n",
      "          4      0\n",
      "          5      0\n",
      "          6   1391\n",
      "          7   2672\n",
      "          8    209\n",
      "          10   490\n",
      "          11   814\n",
      "          12  1044\n",
      "          13   868\n",
      "          14  1933\n",
      "          15   665\n",
      "          16  1033\n",
      "          17  2930\n",
      "          18    81\n",
      "          19   289\n",
      "          20   120\n",
      "          21    95\n",
      "          22   545\n",
      "          23     0\n",
      "Outgoing  0      0\n",
      "          1    413\n",
      "          2      0\n",
      "          4     20\n",
      "          5    634\n",
      "          6   1267\n",
      "          7    202\n",
      "          8    195\n",
      "          10   190\n",
      "          11   496\n",
      "          12  1755\n",
      "          13    72\n",
      "          14   181\n",
      "          15   566\n",
      "          16   102\n",
      "          17    99\n",
      "          18    74\n",
      "          19  1159\n",
      "          20    62\n",
      "          21     0\n",
      "          22  1134\n",
      "          23   338\n",
      "Direction  CallingNumber  CalledNumber\n",
      "Incoming   16504838989    128             120\n",
      "                          2300              0\n",
      "                          22395             0\n",
      "                          32665             0\n",
      "                          50472             0\n",
      "                                         ... \n",
      "Outgoing   16504838989    16506669898       0\n",
      "                          16507774141       3\n",
      "                          16508798798       0\n",
      "                          16508885151       1\n",
      "                          16509998585       4\n",
      "Name: Duration, Length: 100, dtype: object\n"
     ]
    },
    {
     "name": "stderr",
     "output_type": "stream",
     "text": [
      "/var/folders/l8/bs7tpptx1bn6tj17hnvl3y2m0000gn/T/ipykernel_29818/3636151959.py:1: FutureWarning: The default of observed=False is deprecated and will be changed to True in a future version of pandas. Pass observed=False to retain current behavior or observed=True to adopt the future default and silence this warning.\n",
      "  call_activity = cdr.groupby(['Day', 'Hour', 'Direction'])[['Duration']].agg(['count', 'sum'])\n",
      "/var/folders/l8/bs7tpptx1bn6tj17hnvl3y2m0000gn/T/ipykernel_29818/3636151959.py:9: FutureWarning: The default of observed=False is deprecated and will be changed to True in a future version of pandas. Pass observed=False to retain current behavior or observed=True to adopt the future default and silence this warning.\n",
      "  duration = cdr.groupby(['Direction', 'Day'])['Duration'].agg(['sum'])\n",
      "/var/folders/l8/bs7tpptx1bn6tj17hnvl3y2m0000gn/T/ipykernel_29818/3636151959.py:13: FutureWarning: The default of observed=False is deprecated and will be changed to True in a future version of pandas. Pass observed=False to retain current behavior or observed=True to adopt the future default and silence this warning.\n",
      "  ampm = cdr.groupby(['Direction', 'AP'])['Duration'].agg(['sum'])\n",
      "/var/folders/l8/bs7tpptx1bn6tj17hnvl3y2m0000gn/T/ipykernel_29818/3636151959.py:17: FutureWarning: The default of observed=False is deprecated and will be changed to True in a future version of pandas. Pass observed=False to retain current behavior or observed=True to adopt the future default and silence this warning.\n",
      "  phones = cdr.groupby(['Direction', 'CallingNumber', 'CalledNumber'])['Duration'].agg('sum')\n"
     ]
    }
   ],
   "source": [
    "call_activity = cdr.groupby(['Day', 'Hour', 'Direction'])[['Duration']].agg(['count', 'sum'])\n",
    "# print(call_activity.iloc[:, 1])\n",
    "\n",
    "# What is the call duration per hour per direction?\n",
    "nz_call_activity = call_activity[call_activity.iloc[:, 0] != 0]\n",
    "print(nz_call_activity)\n",
    "\n",
    "# What is the call duration per day per direction?\n",
    "duration = cdr.groupby(['Direction', 'Day'])['Duration'].agg(['sum'])\n",
    "print(duration)\n",
    "\n",
    "# What is the call duration per direction per AM/PM?\n",
    "ampm = cdr.groupby(['Direction', 'AP'])['Duration'].agg(['sum'])\n",
    "print(ampm)\n",
    "\n",
    "# What are the phone numbers with more activity?\n",
    "phones = cdr.groupby(['Direction', 'CallingNumber', 'CalledNumber'])['Duration'].agg('sum')\n",
    "print(phones)\n",
    "# call_activity = call_activity.unstack(level='Direction')\n",
    "# call_activity\n",
    "# call_activity.head()\n",
    "# call_activity.index.to_list()\n",
    "# call_activity.info()\n",
    "# summary_call = call_activity[call_activity.iloc[:,1] != 0].iloc[:, [1, 3]]"
   ],
   "metadata": {
    "collapsed": false,
    "ExecuteTime": {
     "end_time": "2023-09-09T21:00:11.498572Z",
     "start_time": "2023-09-09T21:00:11.468473Z"
    }
   },
   "id": "bd06b4b7d8a4f9dc"
  },
  {
   "cell_type": "code",
   "execution_count": 86,
   "outputs": [
    {
     "data": {
      "text/plain": "Direction  CallingNumber  CalledNumber\nOutgoing   16504838989    14158887755     8270\nIncoming   16504838989    14157774455     5000\n                          14153336161     3050\n                          14151110505     2142\n                          16505551212      732\n                                          ... \nOutgoing   16504838989    14156565656        0\n                          14156663322        0\n                          14156969696        0\nIncoming   16504838989    15102062062        0\nOutgoing   16504838989    128                0\nName: Duration, Length: 100, dtype: object"
     },
     "execution_count": 86,
     "metadata": {},
     "output_type": "execute_result"
    }
   ],
   "source": [
    "# print(phones.index)\n",
    "phones.sort_values(ascending=False)"
   ],
   "metadata": {
    "collapsed": false,
    "ExecuteTime": {
     "end_time": "2023-09-09T20:45:04.976418Z",
     "start_time": "2023-09-09T20:45:04.956946Z"
    }
   },
   "id": "8adfe2643a0e357a"
  },
  {
   "cell_type": "code",
   "execution_count": 87,
   "outputs": [
    {
     "name": "stdout",
     "output_type": "stream",
     "text": [
      "                sum\n",
      "Direction Day      \n",
      "Incoming  27   4199\n",
      "          28   8788\n",
      "          29   2501\n",
      "Outgoing  27   1837\n",
      "          28   7027\n",
      "          29     95\n"
     ]
    },
    {
     "name": "stderr",
     "output_type": "stream",
     "text": [
      "/var/folders/l8/bs7tpptx1bn6tj17hnvl3y2m0000gn/T/ipykernel_29818/2883469415.py:1: FutureWarning: The default of observed=False is deprecated and will be changed to True in a future version of pandas. Pass observed=False to retain current behavior or observed=True to adopt the future default and silence this warning.\n",
      "  io = cdr.groupby(['Direction', 'Day'])['Duration'].agg(['sum'])\n"
     ]
    }
   ],
   "source": [
    "io = cdr.groupby(['Direction', 'Day'])['Duration'].agg(['sum'])\n",
    "print(io)\n",
    "# io.loc[27, :]"
   ],
   "metadata": {
    "collapsed": false,
    "ExecuteTime": {
     "end_time": "2023-09-09T20:45:10.480042Z",
     "start_time": "2023-09-09T20:45:10.473188Z"
    }
   },
   "id": "8995b17026b76ec3"
  },
  {
   "cell_type": "code",
   "execution_count": 89,
   "outputs": [
    {
     "name": "stdout",
     "output_type": "stream",
     "text": [
      "CategoricalIndex([27, 28, 29], categories=[27, 28, 29], ordered=False, dtype='category', name='Day')\n"
     ]
    },
    {
     "data": {
      "text/plain": "(array([0, 1, 2]), [Text(0, 0, '27'), Text(1, 0, '28'), Text(2, 0, '29')])"
     },
     "execution_count": 89,
     "metadata": {},
     "output_type": "execute_result"
    },
    {
     "data": {
      "text/plain": "<Figure size 640x480 with 1 Axes>",
      "image/png": "[encoded data removed]"
     },
     "metadata": {},
     "output_type": "display_data"
    }
   ],
   "source": [
    "iou = io.unstack(level=0)\n",
    "print(iou.index)\n",
    "# print(iou.columns)\n",
    "iou.plot(kind='bar', ylabel='Sum call duration', title='Call Duration (seconds) per Day', legend=True)\n",
    "plt.legend(title='Summary')\n",
    "plt.xticks(rotation=0)"
   ],
   "metadata": {
    "collapsed": false,
    "ExecuteTime": {
     "end_time": "2023-09-09T20:45:27.875840Z",
     "start_time": "2023-09-09T20:45:27.632150Z"
    }
   },
   "id": "396c084de42e86da"
  },
  {
   "cell_type": "code",
   "execution_count": 101,
   "outputs": [
    {
     "name": "stdout",
     "output_type": "stream",
     "text": [
      "                                            count\n",
      "Day Hour 1stTowerAddress     1stTowerCity        \n",
      "27  1    3067 Turk Blvd      San Francisco      2\n",
      "    2    3067 Turk Blvd      San Francisco      1\n",
      "    11   3067 Turk Blvd      San Francisco      1\n",
      "    12   1358 S Van Ness Ave San Francisco      3\n",
      "         665 Capp St         San Francisco      1\n",
      "    14   1358 S Van Ness Ave San Francisco      2\n",
      "    15   1358 S Van Ness Ave San Francisco      2\n",
      "    17   1358 S Van Ness Ave San Francisco      1\n",
      "    18   900 Corbett Ave     San Francisco      3\n",
      "    19   900 Corbett Ave     San Francisco      2\n",
      "    21   900 Corbett Ave     San Francisco      1\n",
      "    22   900 Corbett Ave     San Francisco      1\n",
      "28  0    1418 Shrader St     San Francisco      1\n",
      "    1    1418 Shrader St     San Francisco      1\n",
      "         2198 Fell St        San Francisco      1\n",
      "         3067 Turk Blvd      San Francisco      2\n",
      "    4    3067 Turk Blvd      San Francisco      5\n",
      "    5    3067 Turk Blvd      San Francisco      3\n",
      "    6    1 Whiting Way       San Francisco      5\n",
      "         248 9th St          San Francisco      7\n",
      "         3067 Turk Blvd      San Francisco     15\n",
      "         35 Chabot Terrace   San Francisco      1\n",
      "         500 8th St          San Francisco      4\n",
      "         534 2nd St          San Francisco      3\n",
      "         637 Laguna St       San Francisco      2\n",
      "         708 Bryant St       San Francisco      3\n",
      "         929 Broderick St    San Francisco      3\n",
      "    7    1464 34th St        Oakland            1\n",
      "         201 Burma Rd        Oakland            3\n",
      "         22 Moss Ave         Oakland            9\n",
      "         458 36th St         Oakland            2\n",
      "    8    22 Moss Ave         Oakland            9\n",
      "    10   22 Moss Ave         Oakland            9\n",
      "    11   22 Moss Ave         Oakland            7\n",
      "    12   4930 Telegraph Ave  Oakland           20\n",
      "    13   4930 Telegraph Ave  Oakland           16\n",
      "    14   3838 Hollis St      Emeryville        21\n",
      "         4930 Telegraph Ave  Oakland            5\n",
      "    15   3838 Hollis St      Emeryville         2\n",
      "    16   1 Whiting Way       San Francisco      1\n",
      "         210 Burma Rd        Oakland            2\n",
      "    17   1358 S Van Ness Ave San Francisco      9\n",
      "    18   1358 S Van Ness Ave San Francisco      1\n",
      "    19   1358 S Van Ness Ave San Francisco      7\n",
      "    20   1358 S Van Ness Ave San Francisco      1\n",
      "    22   3067 Turk Blvd      San Francisco      6\n",
      "    23   3067 Turk Blvd      San Francisco      2\n",
      "29  0    3067 Turk Blvd      San Francisco      2\n",
      "    2    3067 Turk Blvd      San Francisco      1\n",
      "    14   900 Corbett Ave     San Francisco      2\n",
      "    15   4063 24th St        San Francisco      3\n",
      "    16   4063 24th St        San Francisco      3\n",
      "    19   1358 S Van Ness Ave San Francisco      3\n",
      "    20   1358 S Van Ness Ave San Francisco      2\n",
      "    22   1358 S Van Ness Ave San Francisco      2\n"
     ]
    },
    {
     "name": "stderr",
     "output_type": "stream",
     "text": [
      "/var/folders/l8/bs7tpptx1bn6tj17hnvl3y2m0000gn/T/ipykernel_29818/3555810618.py:2: FutureWarning: The default of observed=False is deprecated and will be changed to True in a future version of pandas. Pass observed=False to retain current behavior or observed=True to adopt the future default and silence this warning.\n",
      "  location = cdr.groupby(['Day', 'Hour', '1stTowerAddress', '1stTowerCity'])['DateTime'].agg(['count'])\n"
     ]
    }
   ],
   "source": [
    "# location = cdr.groupby(['1stTowerAddress'])['DateTime'].agg(['count'])\n",
    "location = cdr.groupby(['Day', 'Hour', '1stTowerAddress', '1stTowerCity'])['DateTime'].agg(['count'])\n",
    "nz_location = location[location.iloc[:, 0] != 0]\n",
    "print(nz_location)\n",
    "nz_location.to_csv('location_summary.csv')"
   ],
   "metadata": {
    "collapsed": false,
    "ExecuteTime": {
     "end_time": "2023-09-09T21:19:14.634442Z",
     "start_time": "2023-09-09T21:19:14.613178Z"
    }
   },
   "id": "7d97f4589403e34b"
  },
  {
   "cell_type": "code",
   "execution_count": null,
   "outputs": [],
   "source": [],
   "metadata": {
    "collapsed": false
   },
   "id": "81b7ad77054cc8a8"
  }
 ],
 "metadata": {
  "kernelspec": {
   "display_name": "Python 3",
   "language": "python",
   "name": "python3"
  },
  "language_info": {
   "codemirror_mode": {
    "name": "ipython",
    "version": 2
   },
   "file_extension": ".py",
   "mimetype": "text/x-python",
   "name": "python",
   "nbconvert_exporter": "python",
   "pygments_lexer": "ipython2",
   "version": "2.7.6"
  }
 },
 "nbformat": 4,
 "nbformat_minor": 5
}
